{
 "cells": [
  {
   "cell_type": "code",
   "execution_count": 2,
   "metadata": {},
   "outputs": [],
   "source": [
    "import io\n",
    "import time\n",
    "from datetime import timedelta\n",
    "import multiprocessing\n",
    "from gensim.models import word2vec\n",
    "\n",
    "\n",
    "import gensim"
   ]
  },
  {
   "cell_type": "code",
   "execution_count": 3,
   "metadata": {},
   "outputs": [
    {
     "name": "stdout",
     "output_type": "stream",
     "text": [
      "Streaming wiki...\n"
     ]
    },
    {
     "name": "stderr",
     "output_type": "stream",
     "text": [
      "C:\\Users\\livia.LAPTOP-KSNKPOSP\\AppData\\Local\\Packages\\PythonSoftwareFoundation.Python.3.11_qbz5n2kfra8p0\\LocalCache\\local-packages\\Python311\\site-packages\\gensim\\utils.py:1333: UserWarning: detected Windows; aliasing chunkize to chunkize_serial\n",
      "  warnings.warn(\"detected %s; aliasing chunkize to chunkize_serial\" % entity)\n"
     ]
    },
    {
     "name": "stdout",
     "output_type": "stream",
     "text": [
      "10000 articles processed\n",
      "20000 articles processed\n",
      "30000 articles processed\n",
      "40000 articles processed\n",
      "50000 articles processed\n",
      "60000 articles processed\n",
      "70000 articles processed\n",
      "80000 articles processed\n",
      "90000 articles processed\n",
      "100000 articles processed\n",
      "110000 articles processed\n",
      "120000 articles processed\n",
      "130000 articles processed\n",
      "140000 articles processed\n",
      "150000 articles processed\n",
      "160000 articles processed\n",
      "170000 articles processed\n",
      "180000 articles processed\n",
      "190000 articles processed\n",
      "200000 articles processed\n",
      "210000 articles processed\n",
      "220000 articles processed\n",
      "230000 articles processed\n",
      "240000 articles processed\n",
      "250000 articles processed\n",
      "260000 articles processed\n",
      "270000 articles processed\n",
      "280000 articles processed\n",
      "290000 articles processed\n",
      "300000 articles processed\n",
      "310000 articles processed\n",
      "320000 articles processed\n",
      "330000 articles processed\n",
      "340000 articles processed\n",
      "350000 articles processed\n",
      "360000 articles processed\n",
      "370000 articles processed\n",
      "380000 articles processed\n",
      "390000 articles processed\n",
      "400000 articles processed\n",
      "410000 articles processed\n",
      "420000 articles processed\n",
      "430000 articles processed\n",
      "440000 articles processed\n",
      "450000 articles processed\n",
      "460000 articles processed\n",
      "470000 articles processed\n",
      "480000 articles processed\n",
      "total: 483518 articles\n",
      "Elapsed time: 0:07:22.581418\n"
     ]
    }
   ],
   "source": [
    "if __name__ == '__main__':\n",
    "\n",
    "    start_time = time.time()\n",
    "    print('Streaming wiki...')\n",
    "    id_wiki = gensim.corpora.WikiCorpus(\n",
    "        'D:/SEMESTER 8/TUGAS AKHIR/Model/idwiki-latest-pages-articles.xml.bz2',\n",
    "        lemmatize=None, dictionary={}, lower=True\n",
    "    )\n",
    "    \n",
    "    article_count = 0\n",
    "    with io.open('idwiki.txt', 'w', encoding='utf-8') as wiki_txt:\n",
    "        for text in id_wiki.get_texts():\n",
    "\n",
    "            wiki_txt.write(\" \".join(text) + '\\n')\n",
    "            article_count += 1\n",
    "            \n",
    "            if article_count % 10000 == 0:\n",
    "                print('{} articles processed'.format(article_count))\n",
    "        print('total: {} articles'.format(article_count))\n",
    "\n",
    "    finish_time = time.time()\n",
    "    print('Elapsed time: {}'.format(timedelta(seconds=finish_time-start_time)))"
   ]
  },
  {
   "attachments": {},
   "cell_type": "markdown",
   "metadata": {},
   "source": [
    "### CBOW Size 100, 200, 300"
   ]
  },
  {
   "cell_type": "code",
   "execution_count": 6,
   "metadata": {},
   "outputs": [
    {
     "name": "stdout",
     "output_type": "stream",
     "text": [
      "Training Word2Vec CBOW 300  Model...\n",
      "Finished. Elapsed time: 0:32:10.758383\n"
     ]
    }
   ],
   "source": [
    "if __name__ == '__main__':\n",
    "\n",
    "\n",
    "    # CBOW size = 100\n",
    "    start_time = time.time()\n",
    "    print('Training Word2Vec CBOW Model...')\n",
    "    sentences = word2vec.LineSentence('D:/SEMESTER 8/TUGAS AKHIR/Model/idwiki_new_lower.txt')\n",
    "    id_w2v = word2vec.Word2Vec(sentences, vector_size=100, sg = 0, hs = 1, workers=multiprocessing.cpu_count()-1) # CBOW = 0\n",
    "    id_w2v.save('idwiki_word2vec_100_cbow.model')\n",
    "    finish_time = time.time()\n",
    "\n",
    "    print('Finished. Elapsed time: {}'.format(timedelta(seconds=finish_time-start_time)))\n",
    "\n",
    "    # CBOW Size = 200\n",
    "    start_time = time.time()\n",
    "    print('Training Word2Vec CBOW 200  Model...')\n",
    "    sentences = word2vec.LineSentence('D:/SEMESTER 8/TUGAS AKHIR/Model/idwiki_new_lower.txt')\n",
    "    id_w2v = word2vec.Word2Vec(sentences, vector_size=200, sg = 0, hs = 1, workers=multiprocessing.cpu_count()-1) # CBOW = 0\n",
    "    id_w2v.save('idwiki_word2vec_200_cbow.model')\n",
    "    finish_time = time.time()\n",
    "\n",
    "    print('Finished. Elapsed time: {}'.format(timedelta(seconds=finish_time-start_time)))\n",
    "\n",
    "    # CBOW Size = 300\n",
    "    start_time = time.time()\n",
    "    print('Training Word2Vec CBOW 300  Model...')\n",
    "    sentences = word2vec.LineSentence('D:/SEMESTER 8/TUGAS AKHIR/Model/idwiki_new_lower.txt')\n",
    "    id_w2v = word2vec.Word2Vec(sentences, vector_size=300, sg = 0, hs = 1, workers=multiprocessing.cpu_count()-1) # CBOW = 0\n",
    "    id_w2v.save('idwiki_word2vec_300_cbow.model')\n",
    "    finish_time = time.time()\n",
    "\n",
    "    print('Finished. Elapsed time: {}'.format(timedelta(seconds=finish_time-start_time)))"
   ]
  },
  {
   "attachments": {},
   "cell_type": "markdown",
   "metadata": {},
   "source": [
    "### Skipgram size 100, 200, 300"
   ]
  },
  {
   "cell_type": "code",
   "execution_count": 7,
   "metadata": {},
   "outputs": [
    {
     "name": "stdout",
     "output_type": "stream",
     "text": [
      "Training Word2Vec SG Model...\n",
      "Finished. Elapsed time: 0:34:21.107015\n",
      "Training Word2Vec SG 200  Model...\n",
      "Finished. Elapsed time: 1:07:37.892093\n",
      "Training Word2Vec SG 300  Model...\n",
      "Finished. Elapsed time: 1:10:56.268795\n"
     ]
    }
   ],
   "source": [
    "if __name__ == '__main__':\n",
    "\n",
    "\n",
    "    # SG size = 100\n",
    "    start_time = time.time()\n",
    "    print('Training Word2Vec SG Model...')\n",
    "    sentences = word2vec.LineSentence('D:/SEMESTER 8/TUGAS AKHIR/Model/idwiki_new_lower.txt')\n",
    "    id_w2v = word2vec.Word2Vec(sentences, vector_size=100, sg = 1, hs = 1, workers=multiprocessing.cpu_count()-1) # SG = 1\n",
    "    id_w2v.save('idwiki_word2vec_100_sg.model')\n",
    "    finish_time = time.time()\n",
    "\n",
    "    print('Finished. Elapsed time: {}'.format(timedelta(seconds=finish_time-start_time)))\n",
    "\n",
    "    # SG Size = 200\n",
    "    start_time = time.time()\n",
    "    print('Training Word2Vec SG 200  Model...')\n",
    "    sentences = word2vec.LineSentence('D:/SEMESTER 8/TUGAS AKHIR/Model/idwiki_new_lower.txt')\n",
    "    id_w2v = word2vec.Word2Vec(sentences, vector_size=200, sg = 1, hs = 1, workers=multiprocessing.cpu_count()-1) # SG = 1\n",
    "    id_w2v.save('idwiki_word2vec_200_sg.model')\n",
    "    finish_time = time.time()\n",
    "\n",
    "    print('Finished. Elapsed time: {}'.format(timedelta(seconds=finish_time-start_time)))\n",
    "\n",
    "    # SG Size = 300\n",
    "    start_time = time.time()\n",
    "    print('Training Word2Vec SG 300  Model...')\n",
    "    sentences = word2vec.LineSentence('D:/SEMESTER 8/TUGAS AKHIR/Model/idwiki_new_lower.txt')\n",
    "    id_w2v = word2vec.Word2Vec(sentences, vector_size=300, sg = 1, hs = 1, workers=multiprocessing.cpu_count()-1) # SG = 0\n",
    "    id_w2v.save('idwiki_word2vec_300_SG.model')\n",
    "    finish_time = time.time()\n",
    "\n",
    "    print('Finished. Elapsed time: {}'.format(timedelta(seconds=finish_time-start_time)))"
   ]
  }
 ],
 "metadata": {
  "kernelspec": {
   "display_name": "venv",
   "language": "python",
   "name": "python3"
  },
  "language_info": {
   "codemirror_mode": {
    "name": "ipython",
    "version": 3
   },
   "file_extension": ".py",
   "mimetype": "text/x-python",
   "name": "python",
   "nbconvert_exporter": "python",
   "pygments_lexer": "ipython3",
   "version": "3.11.4"
  },
  "orig_nbformat": 4
 },
 "nbformat": 4,
 "nbformat_minor": 2
}
